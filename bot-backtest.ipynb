{
 "cells": [
  {
   "cell_type": "markdown",
   "metadata": {},
   "source": [
    "# Backtest Bot\n",
    "\n",
    "1 - Captação de dados através do yfinance<br>\n",
    "2 - Estratégia de compra e venda<br>\n",
    "3 - Plotagem dos resultado<br>\n",
    "4 - Exportar dados para o excel \n"
   ]
  },
  {
   "cell_type": "markdown",
   "metadata": {},
   "source": [
    "- Instalando pacotes necessários"
   ]
  },
  {
   "cell_type": "code",
   "execution_count": null,
   "metadata": {},
   "outputs": [],
   "source": [
    "%pip install yfinance\n",
    "%pip install backtrader\n",
    "%pip install vectorbt\n",
    "%pip install Backtesting\n",
    "%pip install pandas-datareader"
   ]
  },
  {
   "cell_type": "markdown",
   "metadata": {},
   "source": [
    "- Importação das bibliotecas"
   ]
  },
  {
   "cell_type": "code",
   "execution_count": 7,
   "metadata": {},
   "outputs": [],
   "source": [
    "import yfinance as yfn\n",
    "import backtrader \n",
    "import vectorbt as vbt\n",
    "import pandas as pd\n",
    "import pandas_datareader.data as pdr\n",
    "import matplotlib.pyplot as plt"
   ]
  },
  {
   "cell_type": "markdown",
   "metadata": {},
   "source": [
    "### 1 - Captação de dados através do yfinance"
   ]
  },
  {
   "cell_type": "code",
   "execution_count": 5,
   "metadata": {},
   "outputs": [
    {
     "data": {
      "text/html": [
       "<div>\n",
       "<style scoped>\n",
       "    .dataframe tbody tr th:only-of-type {\n",
       "        vertical-align: middle;\n",
       "    }\n",
       "\n",
       "    .dataframe tbody tr th {\n",
       "        vertical-align: top;\n",
       "    }\n",
       "\n",
       "    .dataframe thead th {\n",
       "        text-align: right;\n",
       "    }\n",
       "</style>\n",
       "<table border=\"1\" class=\"dataframe\">\n",
       "  <thead>\n",
       "    <tr style=\"text-align: right;\">\n",
       "      <th></th>\n",
       "      <th>High</th>\n",
       "      <th>Low</th>\n",
       "      <th>Open</th>\n",
       "      <th>Close</th>\n",
       "      <th>Volume</th>\n",
       "      <th>Adj Close</th>\n",
       "    </tr>\n",
       "    <tr>\n",
       "      <th>Date</th>\n",
       "      <th></th>\n",
       "      <th></th>\n",
       "      <th></th>\n",
       "      <th></th>\n",
       "      <th></th>\n",
       "      <th></th>\n",
       "    </tr>\n",
       "  </thead>\n",
       "  <tbody>\n",
       "    <tr>\n",
       "      <th>2019-12-01</th>\n",
       "      <td>7571.616211</td>\n",
       "      <td>7291.341797</td>\n",
       "      <td>7571.616211</td>\n",
       "      <td>7424.292480</td>\n",
       "      <td>18720708479</td>\n",
       "      <td>7424.292480</td>\n",
       "    </tr>\n",
       "    <tr>\n",
       "      <th>2019-12-02</th>\n",
       "      <td>7474.818848</td>\n",
       "      <td>7233.399414</td>\n",
       "      <td>7424.036133</td>\n",
       "      <td>7321.988281</td>\n",
       "      <td>17082040706</td>\n",
       "      <td>7321.988281</td>\n",
       "    </tr>\n",
       "    <tr>\n",
       "      <th>2019-12-03</th>\n",
       "      <td>7418.858887</td>\n",
       "      <td>7229.356934</td>\n",
       "      <td>7323.975586</td>\n",
       "      <td>7320.145508</td>\n",
       "      <td>14797485769</td>\n",
       "      <td>7320.145508</td>\n",
       "    </tr>\n",
       "    <tr>\n",
       "      <th>2019-12-04</th>\n",
       "      <td>7539.784668</td>\n",
       "      <td>7170.922852</td>\n",
       "      <td>7320.125000</td>\n",
       "      <td>7252.034668</td>\n",
       "      <td>21664240918</td>\n",
       "      <td>7252.034668</td>\n",
       "    </tr>\n",
       "    <tr>\n",
       "      <th>2019-12-05</th>\n",
       "      <td>7743.431641</td>\n",
       "      <td>7232.676758</td>\n",
       "      <td>7253.241699</td>\n",
       "      <td>7448.307617</td>\n",
       "      <td>18816085231</td>\n",
       "      <td>7448.307617</td>\n",
       "    </tr>\n",
       "    <tr>\n",
       "      <th>...</th>\n",
       "      <td>...</td>\n",
       "      <td>...</td>\n",
       "      <td>...</td>\n",
       "      <td>...</td>\n",
       "      <td>...</td>\n",
       "      <td>...</td>\n",
       "    </tr>\n",
       "    <tr>\n",
       "      <th>2021-12-29</th>\n",
       "      <td>48119.742188</td>\n",
       "      <td>46201.496094</td>\n",
       "      <td>47623.871094</td>\n",
       "      <td>46444.710938</td>\n",
       "      <td>30049226299</td>\n",
       "      <td>46444.710938</td>\n",
       "    </tr>\n",
       "    <tr>\n",
       "      <th>2021-12-30</th>\n",
       "      <td>47879.964844</td>\n",
       "      <td>46060.312500</td>\n",
       "      <td>46490.605469</td>\n",
       "      <td>47178.125000</td>\n",
       "      <td>26686491018</td>\n",
       "      <td>47178.125000</td>\n",
       "    </tr>\n",
       "    <tr>\n",
       "      <th>2021-12-31</th>\n",
       "      <td>48472.527344</td>\n",
       "      <td>45819.953125</td>\n",
       "      <td>47169.371094</td>\n",
       "      <td>46306.445312</td>\n",
       "      <td>36974172400</td>\n",
       "      <td>46306.445312</td>\n",
       "    </tr>\n",
       "    <tr>\n",
       "      <th>2022-01-01</th>\n",
       "      <td>47827.312500</td>\n",
       "      <td>46288.484375</td>\n",
       "      <td>46311.746094</td>\n",
       "      <td>47686.812500</td>\n",
       "      <td>24582667004</td>\n",
       "      <td>47686.812500</td>\n",
       "    </tr>\n",
       "    <tr>\n",
       "      <th>2022-01-02</th>\n",
       "      <td>47881.406250</td>\n",
       "      <td>46856.937500</td>\n",
       "      <td>47680.925781</td>\n",
       "      <td>47345.218750</td>\n",
       "      <td>27951569547</td>\n",
       "      <td>47345.218750</td>\n",
       "    </tr>\n",
       "  </tbody>\n",
       "</table>\n",
       "<p>764 rows × 6 columns</p>\n",
       "</div>"
      ],
      "text/plain": [
       "                    High           Low          Open         Close  \\\n",
       "Date                                                                 \n",
       "2019-12-01   7571.616211   7291.341797   7571.616211   7424.292480   \n",
       "2019-12-02   7474.818848   7233.399414   7424.036133   7321.988281   \n",
       "2019-12-03   7418.858887   7229.356934   7323.975586   7320.145508   \n",
       "2019-12-04   7539.784668   7170.922852   7320.125000   7252.034668   \n",
       "2019-12-05   7743.431641   7232.676758   7253.241699   7448.307617   \n",
       "...                  ...           ...           ...           ...   \n",
       "2021-12-29  48119.742188  46201.496094  47623.871094  46444.710938   \n",
       "2021-12-30  47879.964844  46060.312500  46490.605469  47178.125000   \n",
       "2021-12-31  48472.527344  45819.953125  47169.371094  46306.445312   \n",
       "2022-01-01  47827.312500  46288.484375  46311.746094  47686.812500   \n",
       "2022-01-02  47881.406250  46856.937500  47680.925781  47345.218750   \n",
       "\n",
       "                 Volume     Adj Close  \n",
       "Date                                   \n",
       "2019-12-01  18720708479   7424.292480  \n",
       "2019-12-02  17082040706   7321.988281  \n",
       "2019-12-03  14797485769   7320.145508  \n",
       "2019-12-04  21664240918   7252.034668  \n",
       "2019-12-05  18816085231   7448.307617  \n",
       "...                 ...           ...  \n",
       "2021-12-29  30049226299  46444.710938  \n",
       "2021-12-30  26686491018  47178.125000  \n",
       "2021-12-31  36974172400  46306.445312  \n",
       "2022-01-01  24582667004  47686.812500  \n",
       "2022-01-02  27951569547  47345.218750  \n",
       "\n",
       "[764 rows x 6 columns]"
      ]
     },
     "metadata": {},
     "output_type": "display_data"
    }
   ],
   "source": [
    "#setando início e fim dos dados\n",
    "inicio = '2019-12-01'\n",
    "final = '2022-01-01'\n",
    "\n",
    "#pegando os dados e armazenando\n",
    "btc = pdr.DataReader('BTC-USD' , data_source= 'yahoo' , start=inicio, end=final)\n",
    "\n",
    "display(btc)\n"
   ]
  },
  {
   "cell_type": "code",
   "execution_count": 8,
   "metadata": {},
   "outputs": [
    {
     "name": "stdout",
     "output_type": "stream",
     "text": [
      "Date\n",
      "2019-12-01    0.980543\n",
      "2019-12-02    0.986254\n",
      "2019-12-03    0.999477\n",
      "2019-12-04    0.990698\n",
      "2019-12-05    1.026894\n",
      "                ...   \n",
      "2021-12-29    0.975240\n",
      "2021-12-30    1.014788\n",
      "2021-12-31    0.981706\n",
      "2022-01-01    1.029692\n",
      "2022-01-02    0.992959\n",
      "Length: 764, dtype: float64\n"
     ]
    }
   ],
   "source": [
    "'''\n",
    "compra na abertura e venda no fechamento\n",
    "gain = (close/open)\n",
    "'''\n",
    "gain = pd.DataFrame()\n",
    "\n",
    "gain = btc['Close']/btc['Open']\n",
    "\n",
    "print(gain.median())\n"
   ]
  },
  {
   "cell_type": "markdown",
   "metadata": {},
   "source": [
    "### 2 - Estratégia de compra e venda\n",
    "- ex: compra quando ativo x estiver abaixo de 5 e vende na máxima do dos últimos n dias"
   ]
  },
  {
   "cell_type": "code",
   "execution_count": 4,
   "metadata": {},
   "outputs": [
    {
     "name": "stdout",
     "output_type": "stream",
     "text": [
      "0.5\n"
     ]
    }
   ],
   "source": []
  },
  {
   "cell_type": "markdown",
   "metadata": {},
   "source": [
    "### 3 - Plotagem dos resultados\n",
    "- Gráfico para visualizar entradas e saídas e verificar se a estratégia foi programada corretamente"
   ]
  },
  {
   "cell_type": "code",
   "execution_count": null,
   "metadata": {},
   "outputs": [],
   "source": []
  },
  {
   "cell_type": "markdown",
   "metadata": {},
   "source": [
    "### 4 - Exportar dados do backtest para o excel "
   ]
  },
  {
   "cell_type": "code",
   "execution_count": null,
   "metadata": {},
   "outputs": [],
   "source": []
  }
 ],
 "metadata": {
  "interpreter": {
   "hash": "06cdd9b59cdb1dcc3dacf0fff77cfa3e692cfcc757fd907603bee937243b1771"
  },
  "kernelspec": {
   "display_name": "Python 3.10.0 64-bit",
   "language": "python",
   "name": "python3"
  },
  "language_info": {
   "codemirror_mode": {
    "name": "ipython",
    "version": 3
   },
   "file_extension": ".py",
   "mimetype": "text/x-python",
   "name": "python",
   "nbconvert_exporter": "python",
   "pygments_lexer": "ipython3",
   "version": "3.10.1"
  },
  "orig_nbformat": 4
 },
 "nbformat": 4,
 "nbformat_minor": 2
}
